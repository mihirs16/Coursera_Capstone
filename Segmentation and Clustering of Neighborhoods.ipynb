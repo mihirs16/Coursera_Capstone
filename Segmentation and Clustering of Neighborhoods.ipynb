{
    "nbformat_minor": 1, 
    "cells": [
        {
            "source": "<h1>Segmentation and Clustering of Neighbourhoods in Toronto </h1>", 
            "cell_type": "markdown", 
            "metadata": {}
        }, 
        {
            "source": "Importing the required python libraries", 
            "cell_type": "markdown", 
            "metadata": {}
        }, 
        {
            "execution_count": 1, 
            "cell_type": "code", 
            "metadata": {}, 
            "outputs": [], 
            "source": "import requests\nimport pandas as pd\nfrom bs4 import BeautifulSoup"
        }, 
        {
            "source": "<h3>Data Collection</h3>\n\nExtracting Table Data from the Wikipedia Page using Beautiful Soup", 
            "cell_type": "markdown", 
            "metadata": {}
        }, 
        {
            "execution_count": 2, 
            "cell_type": "code", 
            "metadata": {}, 
            "outputs": [], 
            "source": "website_url = requests.get('https://en.wikipedia.org/wiki/List_of_postal_codes_of_Canada:_M').text\n\nsoup = BeautifulSoup(website_url, 'lxml')\nmy_table = soup.find('table', {'class':'wikitable sortable'})"
        }, 
        {
            "source": "<h4>Parsing Table Data and storing in a Pandas Dataframe</h4>\n\nGetting Table Header for Column Names", 
            "cell_type": "markdown", 
            "metadata": {}
        }, 
        {
            "execution_count": 3, 
            "cell_type": "code", 
            "metadata": {}, 
            "outputs": [
                {
                    "execution_count": 3, 
                    "metadata": {}, 
                    "data": {
                        "text/plain": "['Postcode', 'Borough', 'Neighbourhood']"
                    }, 
                    "output_type": "execute_result"
                }
            ], 
            "source": "th = my_table.findAll('th')\n\nheader = []\n\nfor t in th:\n    header.append(t.get_text())\n    \nheader[len(header)-1] = header[len(header)-1][:len(header[len(header)-1])-1] #done to remove the escape charachters of any last value in series like '\\n'\nheader"
        }, 
        {
            "source": "Getting all Data Column-Wise using 'Slicing of Tuples'", 
            "cell_type": "markdown", 
            "metadata": {}
        }, 
        {
            "execution_count": 4, 
            "cell_type": "code", 
            "metadata": {}, 
            "outputs": [], 
            "source": "td = my_table.findAll('td')\n\n_postcode = []\n_borough = []\n_neighbourhood = []\n\ntd_Postcode = td[::3]\nfor t in td_Postcode:\n    _postcode.append(t.get_text())\n\ntd_Borough = td[1:][::3]\nfor t in td_Borough:\n    _borough.append(t.get_text())\n\ntd_Neighbourhood = td[2:][::3]\nfor t in td_Neighbourhood:\n    _neighbourhood.append(t.get_text()[:(len(t.get_text())-1)])"
        }, 
        {
            "source": "Compiling all data and storing it in a Pandas Dataframe", 
            "cell_type": "markdown", 
            "metadata": {}
        }, 
        {
            "execution_count": 5, 
            "cell_type": "code", 
            "metadata": {}, 
            "outputs": [
                {
                    "execution_count": 5, 
                    "metadata": {}, 
                    "data": {
                        "text/html": "<div>\n<style scoped>\n    .dataframe tbody tr th:only-of-type {\n        vertical-align: middle;\n    }\n\n    .dataframe tbody tr th {\n        vertical-align: top;\n    }\n\n    .dataframe thead th {\n        text-align: right;\n    }\n</style>\n<table border=\"1\" class=\"dataframe\">\n  <thead>\n    <tr style=\"text-align: right;\">\n      <th></th>\n      <th>Postcode</th>\n      <th>Borough</th>\n      <th>Neighbourhood</th>\n    </tr>\n  </thead>\n  <tbody>\n    <tr>\n      <th>0</th>\n      <td>M1A</td>\n      <td>Not assigned</td>\n      <td>Not assigned</td>\n    </tr>\n    <tr>\n      <th>1</th>\n      <td>M2A</td>\n      <td>Not assigned</td>\n      <td>Not assigned</td>\n    </tr>\n    <tr>\n      <th>2</th>\n      <td>M3A</td>\n      <td>North York</td>\n      <td>Parkwoods</td>\n    </tr>\n    <tr>\n      <th>3</th>\n      <td>M4A</td>\n      <td>North York</td>\n      <td>Victoria Village</td>\n    </tr>\n    <tr>\n      <th>4</th>\n      <td>M5A</td>\n      <td>Downtown Toronto</td>\n      <td>Harbourfront</td>\n    </tr>\n    <tr>\n      <th>5</th>\n      <td>M5A</td>\n      <td>Downtown Toronto</td>\n      <td>Regent Park</td>\n    </tr>\n    <tr>\n      <th>6</th>\n      <td>M6A</td>\n      <td>North York</td>\n      <td>Lawrence Heights</td>\n    </tr>\n    <tr>\n      <th>7</th>\n      <td>M6A</td>\n      <td>North York</td>\n      <td>Lawrence Manor</td>\n    </tr>\n    <tr>\n      <th>8</th>\n      <td>M7A</td>\n      <td>Queen's Park</td>\n      <td>Not assigned</td>\n    </tr>\n    <tr>\n      <th>9</th>\n      <td>M8A</td>\n      <td>Not assigned</td>\n      <td>Not assigned</td>\n    </tr>\n  </tbody>\n</table>\n</div>", 
                        "text/plain": "  Postcode           Borough     Neighbourhood\n0      M1A      Not assigned      Not assigned\n1      M2A      Not assigned      Not assigned\n2      M3A        North York         Parkwoods\n3      M4A        North York  Victoria Village\n4      M5A  Downtown Toronto      Harbourfront\n5      M5A  Downtown Toronto       Regent Park\n6      M6A        North York  Lawrence Heights\n7      M6A        North York    Lawrence Manor\n8      M7A      Queen's Park      Not assigned\n9      M8A      Not assigned      Not assigned"
                    }, 
                    "output_type": "execute_result"
                }
            ], 
            "source": "df = pd.DataFrame(columns = header)\n\ndf['Postcode'] = _postcode\ndf['Borough'] = _borough\ndf['Neighbourhood'] = _neighbourhood\n\ndf.head(10)"
        }, 
        {
            "source": "<h3>Data Wrangling</h3>", 
            "cell_type": "markdown", 
            "metadata": {}
        }, 
        {
            "source": "Dropping rows where Borough is set to 'Not assigned'", 
            "cell_type": "markdown", 
            "metadata": {}
        }, 
        {
            "execution_count": 6, 
            "cell_type": "code", 
            "metadata": {}, 
            "outputs": [], 
            "source": "df = df[df.Borough != 'Not assigned']\ndf.reset_index(inplace=True)"
        }, 
        {
            "source": "Grouping Neighbourhoods with the same Postal Code", 
            "cell_type": "markdown", 
            "metadata": {}
        }, 
        {
            "execution_count": 7, 
            "cell_type": "code", 
            "metadata": {}, 
            "outputs": [
                {
                    "execution_count": 7, 
                    "metadata": {}, 
                    "data": {
                        "text/html": "<div>\n<style scoped>\n    .dataframe tbody tr th:only-of-type {\n        vertical-align: middle;\n    }\n\n    .dataframe tbody tr th {\n        vertical-align: top;\n    }\n\n    .dataframe thead th {\n        text-align: right;\n    }\n</style>\n<table border=\"1\" class=\"dataframe\">\n  <thead>\n    <tr style=\"text-align: right;\">\n      <th></th>\n      <th>Postcode</th>\n      <th>Neighbourhood</th>\n      <th>Borough</th>\n    </tr>\n  </thead>\n  <tbody>\n    <tr>\n      <th>0</th>\n      <td>M1B</td>\n      <td>Rouge, Malvern</td>\n      <td>Scarborough</td>\n    </tr>\n    <tr>\n      <th>1</th>\n      <td>M1C</td>\n      <td>Highland Creek, Rouge Hill, Port Union</td>\n      <td>Scarborough</td>\n    </tr>\n    <tr>\n      <th>2</th>\n      <td>M1E</td>\n      <td>Guildwood, Morningside, West Hill</td>\n      <td>Scarborough</td>\n    </tr>\n    <tr>\n      <th>3</th>\n      <td>M1G</td>\n      <td>Woburn</td>\n      <td>Scarborough</td>\n    </tr>\n    <tr>\n      <th>4</th>\n      <td>M1H</td>\n      <td>Cedarbrae</td>\n      <td>Scarborough</td>\n    </tr>\n    <tr>\n      <th>5</th>\n      <td>M1J</td>\n      <td>Scarborough Village</td>\n      <td>Scarborough</td>\n    </tr>\n    <tr>\n      <th>6</th>\n      <td>M1K</td>\n      <td>East Birchmount Park, Ionview, Kennedy Park</td>\n      <td>Scarborough</td>\n    </tr>\n    <tr>\n      <th>7</th>\n      <td>M1L</td>\n      <td>Clairlea, Golden Mile, Oakridge</td>\n      <td>Scarborough</td>\n    </tr>\n    <tr>\n      <th>8</th>\n      <td>M1M</td>\n      <td>Cliffcrest, Cliffside, Scarborough Village West</td>\n      <td>Scarborough</td>\n    </tr>\n    <tr>\n      <th>9</th>\n      <td>M1N</td>\n      <td>Birch Cliff, Cliffside West</td>\n      <td>Scarborough</td>\n    </tr>\n    <tr>\n      <th>10</th>\n      <td>M1P</td>\n      <td>Dorset Park, Scarborough Town Centre, Wexford ...</td>\n      <td>Scarborough</td>\n    </tr>\n    <tr>\n      <th>11</th>\n      <td>M1R</td>\n      <td>Maryvale, Wexford</td>\n      <td>Scarborough</td>\n    </tr>\n    <tr>\n      <th>12</th>\n      <td>M1S</td>\n      <td>Agincourt</td>\n      <td>Scarborough</td>\n    </tr>\n    <tr>\n      <th>13</th>\n      <td>M1T</td>\n      <td>Clarks Corners, Sullivan, Tam O'Shanter</td>\n      <td>Scarborough</td>\n    </tr>\n    <tr>\n      <th>14</th>\n      <td>M1V</td>\n      <td>Agincourt North, L'Amoreaux East, Milliken, St...</td>\n      <td>Scarborough</td>\n    </tr>\n    <tr>\n      <th>15</th>\n      <td>M1W</td>\n      <td>L'Amoreaux West</td>\n      <td>Scarborough</td>\n    </tr>\n    <tr>\n      <th>16</th>\n      <td>M1X</td>\n      <td>Upper Rouge</td>\n      <td>Scarborough</td>\n    </tr>\n    <tr>\n      <th>17</th>\n      <td>M2H</td>\n      <td>Hillcrest Village</td>\n      <td>North York</td>\n    </tr>\n    <tr>\n      <th>18</th>\n      <td>M2J</td>\n      <td>Fairview, Henry Farm, Oriole</td>\n      <td>North York</td>\n    </tr>\n    <tr>\n      <th>19</th>\n      <td>M2K</td>\n      <td>Bayview Village</td>\n      <td>North York</td>\n    </tr>\n    <tr>\n      <th>20</th>\n      <td>M2L</td>\n      <td>Silver Hills, York Mills</td>\n      <td>North York</td>\n    </tr>\n    <tr>\n      <th>21</th>\n      <td>M2M</td>\n      <td>Newtonbrook, Willowdale</td>\n      <td>North York</td>\n    </tr>\n    <tr>\n      <th>22</th>\n      <td>M2N</td>\n      <td>Willowdale South</td>\n      <td>North York</td>\n    </tr>\n    <tr>\n      <th>23</th>\n      <td>M2P</td>\n      <td>York Mills West</td>\n      <td>North York</td>\n    </tr>\n    <tr>\n      <th>24</th>\n      <td>M2R</td>\n      <td>Willowdale West</td>\n      <td>North York</td>\n    </tr>\n    <tr>\n      <th>25</th>\n      <td>M3A</td>\n      <td>Parkwoods</td>\n      <td>North York</td>\n    </tr>\n    <tr>\n      <th>26</th>\n      <td>M3B</td>\n      <td>Don Mills North</td>\n      <td>North York</td>\n    </tr>\n    <tr>\n      <th>27</th>\n      <td>M3C</td>\n      <td>Flemingdon Park, Don Mills South</td>\n      <td>North York</td>\n    </tr>\n    <tr>\n      <th>28</th>\n      <td>M3H</td>\n      <td>Bathurst Manor, Downsview North, Wilson Heights</td>\n      <td>North York</td>\n    </tr>\n    <tr>\n      <th>29</th>\n      <td>M3J</td>\n      <td>Northwood Park, York University</td>\n      <td>North York</td>\n    </tr>\n    <tr>\n      <th>...</th>\n      <td>...</td>\n      <td>...</td>\n      <td>...</td>\n    </tr>\n    <tr>\n      <th>73</th>\n      <td>M6C</td>\n      <td>Humewood-Cedarvale</td>\n      <td>York</td>\n    </tr>\n    <tr>\n      <th>74</th>\n      <td>M6E</td>\n      <td>Caledonia-Fairbanks</td>\n      <td>York</td>\n    </tr>\n    <tr>\n      <th>75</th>\n      <td>M6G</td>\n      <td>Christie</td>\n      <td>Downtown Toronto</td>\n    </tr>\n    <tr>\n      <th>76</th>\n      <td>M6H</td>\n      <td>Dovercourt Village, Dufferin</td>\n      <td>West Toronto</td>\n    </tr>\n    <tr>\n      <th>77</th>\n      <td>M6J</td>\n      <td>Little Portugal, Trinity</td>\n      <td>West Toronto</td>\n    </tr>\n    <tr>\n      <th>78</th>\n      <td>M6K</td>\n      <td>Brockton, Exhibition Place, Parkdale Village</td>\n      <td>West Toronto</td>\n    </tr>\n    <tr>\n      <th>79</th>\n      <td>M6L</td>\n      <td>Downsview, North Park, Upwood Park</td>\n      <td>North York</td>\n    </tr>\n    <tr>\n      <th>80</th>\n      <td>M6M</td>\n      <td>Del Ray, Keelesdale, Mount Dennis, Silverthorn</td>\n      <td>York</td>\n    </tr>\n    <tr>\n      <th>81</th>\n      <td>M6N</td>\n      <td>The Junction North, Runnymede</td>\n      <td>York</td>\n    </tr>\n    <tr>\n      <th>82</th>\n      <td>M6P</td>\n      <td>High Park, The Junction South</td>\n      <td>West Toronto</td>\n    </tr>\n    <tr>\n      <th>83</th>\n      <td>M6R</td>\n      <td>Parkdale, Roncesvalles</td>\n      <td>West Toronto</td>\n    </tr>\n    <tr>\n      <th>84</th>\n      <td>M6S</td>\n      <td>Runnymede, Swansea</td>\n      <td>West Toronto</td>\n    </tr>\n    <tr>\n      <th>85</th>\n      <td>M7A</td>\n      <td>Queen's Park</td>\n      <td>Queen's Park</td>\n    </tr>\n    <tr>\n      <th>86</th>\n      <td>M7R</td>\n      <td>Canada Post Gateway Processing Centre</td>\n      <td>Mississauga</td>\n    </tr>\n    <tr>\n      <th>87</th>\n      <td>M7Y</td>\n      <td>Business Reply Mail Processing Centre 969 Eastern</td>\n      <td>East Toronto</td>\n    </tr>\n    <tr>\n      <th>88</th>\n      <td>M8V</td>\n      <td>Humber Bay Shores, Mimico South, New Toronto</td>\n      <td>Etobicoke</td>\n    </tr>\n    <tr>\n      <th>89</th>\n      <td>M8W</td>\n      <td>Alderwood, Long Branch</td>\n      <td>Etobicoke</td>\n    </tr>\n    <tr>\n      <th>90</th>\n      <td>M8X</td>\n      <td>The Kingsway, Montgomery Road, Old Mill North</td>\n      <td>Etobicoke</td>\n    </tr>\n    <tr>\n      <th>91</th>\n      <td>M8Y</td>\n      <td>Humber Bay, King's Mill Park, Kingsway Park So...</td>\n      <td>Etobicoke</td>\n    </tr>\n    <tr>\n      <th>92</th>\n      <td>M8Z</td>\n      <td>Kingsway Park South West, Mimico NW, The Queen...</td>\n      <td>Etobicoke</td>\n    </tr>\n    <tr>\n      <th>93</th>\n      <td>M9A</td>\n      <td>Islington Avenue</td>\n      <td>Etobicoke</td>\n    </tr>\n    <tr>\n      <th>94</th>\n      <td>M9B</td>\n      <td>Cloverdale, Islington, Martin Grove, Princess ...</td>\n      <td>Etobicoke</td>\n    </tr>\n    <tr>\n      <th>95</th>\n      <td>M9C</td>\n      <td>Bloordale Gardens, Eringate, Markland Wood, Ol...</td>\n      <td>Etobicoke</td>\n    </tr>\n    <tr>\n      <th>96</th>\n      <td>M9L</td>\n      <td>Humber Summit</td>\n      <td>North York</td>\n    </tr>\n    <tr>\n      <th>97</th>\n      <td>M9M</td>\n      <td>Emery, Humberlea</td>\n      <td>North York</td>\n    </tr>\n    <tr>\n      <th>98</th>\n      <td>M9N</td>\n      <td>Weston</td>\n      <td>York</td>\n    </tr>\n    <tr>\n      <th>99</th>\n      <td>M9P</td>\n      <td>Westmount</td>\n      <td>Etobicoke</td>\n    </tr>\n    <tr>\n      <th>100</th>\n      <td>M9R</td>\n      <td>Kingsview Village, Martin Grove Gardens, Richv...</td>\n      <td>Etobicoke</td>\n    </tr>\n    <tr>\n      <th>101</th>\n      <td>M9V</td>\n      <td>Albion Gardens, Beaumond Heights, Humbergate, ...</td>\n      <td>Etobicoke</td>\n    </tr>\n    <tr>\n      <th>102</th>\n      <td>M9W</td>\n      <td>Northwest</td>\n      <td>Etobicoke</td>\n    </tr>\n  </tbody>\n</table>\n<p>103 rows \u00d7 3 columns</p>\n</div>", 
                        "text/plain": "    Postcode                                      Neighbourhood  \\\n0        M1B                                     Rouge, Malvern   \n1        M1C             Highland Creek, Rouge Hill, Port Union   \n2        M1E                  Guildwood, Morningside, West Hill   \n3        M1G                                             Woburn   \n4        M1H                                          Cedarbrae   \n5        M1J                                Scarborough Village   \n6        M1K        East Birchmount Park, Ionview, Kennedy Park   \n7        M1L                    Clairlea, Golden Mile, Oakridge   \n8        M1M    Cliffcrest, Cliffside, Scarborough Village West   \n9        M1N                        Birch Cliff, Cliffside West   \n10       M1P  Dorset Park, Scarborough Town Centre, Wexford ...   \n11       M1R                                  Maryvale, Wexford   \n12       M1S                                          Agincourt   \n13       M1T            Clarks Corners, Sullivan, Tam O'Shanter   \n14       M1V  Agincourt North, L'Amoreaux East, Milliken, St...   \n15       M1W                                    L'Amoreaux West   \n16       M1X                                        Upper Rouge   \n17       M2H                                  Hillcrest Village   \n18       M2J                       Fairview, Henry Farm, Oriole   \n19       M2K                                    Bayview Village   \n20       M2L                           Silver Hills, York Mills   \n21       M2M                            Newtonbrook, Willowdale   \n22       M2N                                   Willowdale South   \n23       M2P                                    York Mills West   \n24       M2R                                    Willowdale West   \n25       M3A                                          Parkwoods   \n26       M3B                                    Don Mills North   \n27       M3C                   Flemingdon Park, Don Mills South   \n28       M3H    Bathurst Manor, Downsview North, Wilson Heights   \n29       M3J                    Northwood Park, York University   \n..       ...                                                ...   \n73       M6C                                 Humewood-Cedarvale   \n74       M6E                                Caledonia-Fairbanks   \n75       M6G                                           Christie   \n76       M6H                       Dovercourt Village, Dufferin   \n77       M6J                           Little Portugal, Trinity   \n78       M6K       Brockton, Exhibition Place, Parkdale Village   \n79       M6L                 Downsview, North Park, Upwood Park   \n80       M6M     Del Ray, Keelesdale, Mount Dennis, Silverthorn   \n81       M6N                      The Junction North, Runnymede   \n82       M6P                      High Park, The Junction South   \n83       M6R                             Parkdale, Roncesvalles   \n84       M6S                                 Runnymede, Swansea   \n85       M7A                                       Queen's Park   \n86       M7R              Canada Post Gateway Processing Centre   \n87       M7Y  Business Reply Mail Processing Centre 969 Eastern   \n88       M8V       Humber Bay Shores, Mimico South, New Toronto   \n89       M8W                             Alderwood, Long Branch   \n90       M8X      The Kingsway, Montgomery Road, Old Mill North   \n91       M8Y  Humber Bay, King's Mill Park, Kingsway Park So...   \n92       M8Z  Kingsway Park South West, Mimico NW, The Queen...   \n93       M9A                                   Islington Avenue   \n94       M9B  Cloverdale, Islington, Martin Grove, Princess ...   \n95       M9C  Bloordale Gardens, Eringate, Markland Wood, Ol...   \n96       M9L                                      Humber Summit   \n97       M9M                                   Emery, Humberlea   \n98       M9N                                             Weston   \n99       M9P                                          Westmount   \n100      M9R  Kingsview Village, Martin Grove Gardens, Richv...   \n101      M9V  Albion Gardens, Beaumond Heights, Humbergate, ...   \n102      M9W                                          Northwest   \n\n              Borough  \n0         Scarborough  \n1         Scarborough  \n2         Scarborough  \n3         Scarborough  \n4         Scarborough  \n5         Scarborough  \n6         Scarborough  \n7         Scarborough  \n8         Scarborough  \n9         Scarborough  \n10        Scarborough  \n11        Scarborough  \n12        Scarborough  \n13        Scarborough  \n14        Scarborough  \n15        Scarborough  \n16        Scarborough  \n17         North York  \n18         North York  \n19         North York  \n20         North York  \n21         North York  \n22         North York  \n23         North York  \n24         North York  \n25         North York  \n26         North York  \n27         North York  \n28         North York  \n29         North York  \n..                ...  \n73               York  \n74               York  \n75   Downtown Toronto  \n76       West Toronto  \n77       West Toronto  \n78       West Toronto  \n79         North York  \n80               York  \n81               York  \n82       West Toronto  \n83       West Toronto  \n84       West Toronto  \n85       Queen's Park  \n86        Mississauga  \n87       East Toronto  \n88          Etobicoke  \n89          Etobicoke  \n90          Etobicoke  \n91          Etobicoke  \n92          Etobicoke  \n93          Etobicoke  \n94          Etobicoke  \n95          Etobicoke  \n96         North York  \n97         North York  \n98               York  \n99          Etobicoke  \n100         Etobicoke  \n101         Etobicoke  \n102         Etobicoke  \n\n[103 rows x 3 columns]"
                    }, 
                    "output_type": "execute_result"
                }
            ], 
            "source": "df['Neighbourhood'].replace('Not assigned', df.Borough, inplace=True)\ndf = df.groupby('Postcode').agg({'Borough':'first', 'Neighbourhood':', '.join}).reset_index()\ndf"
        }, 
        {
            "source": "Describing Data", 
            "cell_type": "markdown", 
            "metadata": {}
        }, 
        {
            "execution_count": 8, 
            "cell_type": "code", 
            "metadata": {}, 
            "outputs": [
                {
                    "execution_count": 8, 
                    "metadata": {}, 
                    "data": {
                        "text/plain": "(103, 3)"
                    }, 
                    "output_type": "execute_result"
                }
            ], 
            "source": "df.shape"
        }
    ], 
    "metadata": {
        "kernelspec": {
            "display_name": "Python 3.5", 
            "name": "python3", 
            "language": "python"
        }, 
        "language_info": {
            "mimetype": "text/x-python", 
            "nbconvert_exporter": "python", 
            "version": "3.5.5", 
            "name": "python", 
            "file_extension": ".py", 
            "pygments_lexer": "ipython3", 
            "codemirror_mode": {
                "version": 3, 
                "name": "ipython"
            }
        }
    }, 
    "nbformat": 4
}