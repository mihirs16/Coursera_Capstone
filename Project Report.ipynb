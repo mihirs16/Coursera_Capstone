{
    "nbformat_minor": 1, 
    "cells": [
        {
            "source": "<h1>Battle of Neighbourhoods</h1>\n\n<h2>Project Report</h2>\n\n***", 
            "cell_type": "markdown", 
            "metadata": {
                "collapsed": true
            }
        }, 
        {
            "source": "<h3>Introduction to the Business Problem </h3>", 
            "cell_type": "markdown", 
            "metadata": {}
        }, 
        {
            "source": "The Problem: Finding a suitable location for opening a new Food Business in the City of Manchester.\n\nTo choose a suitable location for setting up a Food Business one must consider the following factors:-\n    1. Human Traffic:-\n        The amount of people to which the location is accessible and how much traffic, both foot and vehicle does the neighbourhood experiences.\n        The higher the score, the better the neighbourhood is to set up a Food Business.\n    2. Competition:-\n        Although a business must be setup in an area with lesser competition, absence thereof might indicate either unrealized potential or the location \n        not being good enough. However a moderate presence of competition of similar, both vaguely and completely, business's points to an ideal\n        neighbourhood. \n        As close to moderate the score is, the better the neighbourhood is to set up a Food Business.\n    3. Location Cost:-\n        Depending on how pricey the business's in the area are, one might be able to determine the cost of the location.\n        The lower the cost, the better the neighbourhood is to set up a Food Business.\n        \nThe project aims to create clusters of neighbourhood based on the different scores for the aformentioned factors of a neighbourhood.\nIt may also suggest the best out of those clusters to set up a new Food Business.\n\nTarget Audience: To help those who might be looking to open a new food business in Manchester or let this be served as an example of how to \n                 look for a neighbourhood to open a similar food business.", 
            "cell_type": "markdown", 
            "metadata": {}
        }, 
        {
            "source": "<h3>Description of Data</h3>", 
            "cell_type": "markdown", 
            "metadata": {}
        }, 
        {
            "source": "For the project to deliver on the proposed promises, data corresponding to the factors affecting the choice of neighbourhood must be fed.", 
            "cell_type": "markdown", 
            "metadata": {}
        }, 
        {
            "source": "<h5>Locational Data</h5>\n\nLocational Data will be collected in two parts:-\n    1. List of Postal Codes and their corresponding neighbourhoods in Manchester\n        This data can be scraped off of the Wikipedia Page(https://en.wikipedia.org/wiki/M_postcode_area).\n    2. Latitude and Longitude corresponding to each Postal Code using a \n       python library called 'pgeocode'. (https://pypi.org/project/pgeocode/)", 
            "cell_type": "markdown", 
            "metadata": {}
        }, 
        {
            "source": "<h5>Human Traffic Data</h5>\n\nAmount of human traffic can be determined using the data from Foursquare API.\nIt can be estimated relatively to other neighbourhoods by comparing their attributes:-\n    1. Ease of Access: Can be determined by analysing the no. of venues with the category indicating public transport.\n    2. Area Trends: Can be determined by analysing the rating of pre-existing venues.\nHigher score is better.", 
            "cell_type": "markdown", 
            "metadata": {}
        }, 
        {
            "source": "<h5>Local Competition Data</h5>\n\nAmount and level of local competetion can be determined using the data from the Foursquare API. It can be relatively estimated\nby comparing the average ratings of similar establishments or venues in each of the neighbourhoods. The competition shouldn't be too high\nas it would mean hinderance in our new business being visible and it shouldn't be too low either since presence thereof indicates\na suitable neighbourhood for a similar establishment.\n\nModerate is better.", 
            "cell_type": "markdown", 
            "metadata": {}
        }, 
        {
            "source": "<h5>Location Costs</h5>\n\nThe cost of setting up a business in a new location is highly proportional to the cost and ratings of the already present establishments in the neighbourhood.\nThis can be determined using the data from the Foursquare API. It can be relatively estimated by comparing the average ratings and price of nearby venues in a neighbourhood.\n\nLower is better", 
            "cell_type": "markdown", 
            "metadata": {}
        }, 
        {
            "source": "\n\nEach of the required data except from the Locational Data can be obtained by using the Foursquare API and returning attributes for the nearby venues of each neighbourhood.", 
            "cell_type": "markdown", 
            "metadata": {}
        }
    ], 
    "metadata": {
        "kernelspec": {
            "display_name": "Python 3.5", 
            "name": "python3", 
            "language": "python"
        }, 
        "language_info": {
            "mimetype": "text/x-python", 
            "nbconvert_exporter": "python", 
            "version": "3.5.5", 
            "name": "python", 
            "file_extension": ".py", 
            "pygments_lexer": "ipython3", 
            "codemirror_mode": {
                "version": 3, 
                "name": "ipython"
            }
        }
    }, 
    "nbformat": 4
}